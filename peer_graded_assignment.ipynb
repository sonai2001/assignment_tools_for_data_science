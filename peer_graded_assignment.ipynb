{
 "cells": [
  {
   "cell_type": "markdown",
   "id": "9b977619-f566-4525-a928-c483640852cf",
   "metadata": {},
   "source": [
    "# My Jupyter Notebook on IBM Watson Studio"
   ]
  },
  {
   "cell_type": "markdown",
   "id": "f2e6cd0a-6be1-4920-a89c-63ec0f3387b8",
   "metadata": {},
   "source": [
    "**Anubrata Sarkar**\n",
    "<br/> Data Scientist"
   ]
  },
  {
   "cell_type": "markdown",
   "id": "a6aab091-5530-4705-8bf7-84d30be30d85",
   "metadata": {},
   "source": [
    "*I am interested in data science because it plays a crucial role in shaping our future by providing actionable insights and helping organizations and individuals make informed decisions.*"
   ]
  },
  {
   "cell_type": "markdown",
   "id": "a2cce54c-e62c-4ff0-8291-b01b8a619e57",
   "metadata": {},
   "source": [
    "### The program going to add two numbers 1 and 2"
   ]
  },
  {
   "cell_type": "code",
   "execution_count": 1,
   "id": "76263f27-2c98-4a3b-af36-f803d52df761",
   "metadata": {},
   "outputs": [
    {
     "data": {
      "text/plain": [
       "3"
      ]
     },
     "execution_count": 1,
     "metadata": {},
     "output_type": "execute_result"
    }
   ],
   "source": [
    "1+2"
   ]
  },
  {
   "cell_type": "markdown",
   "id": "74be7763-ceb5-42e7-9408-a0968c734a65",
   "metadata": {},
   "source": [
    "~~ new cell~~\n",
    "---\n",
    "|id|name|\n",
    "|--|----|\n",
    "|C001|Anubrata|\n"
   ]
  }
 ],
 "metadata": {
  "kernelspec": {
   "display_name": "Python",
   "language": "python",
   "name": "conda-env-python-py"
  },
  "language_info": {
   "codemirror_mode": {
    "name": "ipython",
    "version": 3
   },
   "file_extension": ".py",
   "mimetype": "text/x-python",
   "name": "python",
   "nbconvert_exporter": "python",
   "pygments_lexer": "ipython3",
   "version": "3.7.12"
  }
 },
 "nbformat": 4,
 "nbformat_minor": 5
}
